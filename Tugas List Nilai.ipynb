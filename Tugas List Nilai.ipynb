{
 "cells": [
  {
   "cell_type": "markdown",
   "metadata": {},
   "source": [
    "# Tugas List Nilai\n",
    "# Anugerah Nuri Satria - Big Data C"
   ]
  },
  {
   "cell_type": "markdown",
   "metadata": {},
   "source": [
    "## 1. GENERATE RANDOM"
   ]
  },
  {
   "cell_type": "code",
   "execution_count": 3,
   "metadata": {},
   "outputs": [
    {
     "name": "stdout",
     "output_type": "stream",
     "text": [
      "[30, 60, 32, 15, 50, 95, 44, 62, 69, 47, 72, 4, 9, 94, 93, 23, 39, 63, 96, 60, 11, 22, 24, 81, 21, 47, 65, 23, 58, 27, 9, 74, 54, 20, 16, 22, 77, 40, 1, 14, 16, 46, 79, 36, 31, 84, 37, 11, 92, 63, 88, 85, 96, 10, 89, 29, 87, 89, 49, 55, 27, 1, 59, 43, 78, 97, 76, 68, 8, 49, 61, 39, 34, 36, 21, 76, 33, 61, 33, 8, 28, 33, 99, 8, 43, 37, 99, 58, 65, 58, 6, 28, 47, 2, 2, 69, 81, 38, 15, 45, 28, 63, 7, 8, 81, 99, 17, 48, 94, 64, 66, 30, 58, 88, 76, 71, 75, 65, 25, 40, 71, 36, 61, 75, 66, 87, 87, 48, 56, 8, 80, 90, 90, 59, 99, 15, 89, 6, 3, 65, 17, 91, 42, 83, 30, 51, 88, 60, 99, 48, 4, 91, 97, 9, 58, 40, 92, 61, 51, 19, 84, 88, 17, 77, 58, 23, 89, 17, 97, 48, 29, 23, 27, 74, 13, 96, 85, 54, 81, 39, 50, 67, 67, 7, 60, 1, 37, 14, 51, 29, 71, 8, 85, 42, 17, 76, 13, 11, 18, 59, 75, 34, 46, 85, 29, 18, 76, 56, 70, 88, 27, 62, 30, 53, 54, 95, 70, 68, 24, 97, 90, 89, 31, 21, 31, 74, 27, 88, 41, 35, 59, 58, 99, 89, 80, 77, 11, 79, 80, 63, 19, 3, 56, 98, 10, 6, 74, 94, 16, 43]\n"
     ]
    }
   ],
   "source": [
    "import random\n",
    "\n",
    "# GENERATE RANDOM\n",
    "nilaiTugas = []\n",
    "for i in range(250):\n",
    "    nilaiTugas.append(random.randrange(1,100,1))\n",
    "\n",
    "print(nilaiTugas)\n"
   ]
  },
  {
   "cell_type": "markdown",
   "metadata": {},
   "source": [
    "##  2. Tampilkan Angka Ganjil dari ke 250 nilai tersebut"
   ]
  },
  {
   "cell_type": "code",
   "execution_count": 6,
   "metadata": {},
   "outputs": [
    {
     "name": "stdout",
     "output_type": "stream",
     "text": [
      "[15, 95, 69, 47, 9, 93, 23, 39, 63, 11, 81, 21, 47, 65, 23, 27, 9, 77, 1, 79, 31, 37, 11, 63, 85, 89, 29, 87, 89, 49, 55, 27, 1, 59, 43, 97, 49, 61, 39, 21, 33, 61, 33, 33, 99, 43, 37, 99, 65, 47, 69, 81, 15, 45, 63, 7, 81, 99, 17, 71, 75, 65, 25, 71, 61, 75, 87, 87, 59, 99, 15, 89, 3, 65, 17, 91, 83, 51, 99, 91, 97, 9, 61, 51, 19, 17, 77, 23, 89, 17, 97, 29, 23, 27, 13, 85, 81, 39, 67, 67, 7, 1, 37, 51, 29, 71, 85, 17, 13, 11, 59, 75, 85, 29, 27, 53, 95, 97, 89, 31, 21, 31, 27, 41, 35, 59, 99, 89, 77, 11, 79, 63, 19, 3, 43]\n"
     ]
    }
   ],
   "source": [
    "angkaGanjil = []\n",
    "for n in nilaiTugas:\n",
    "    if n % 2 != 0:\n",
    "        angkaGanjil.append(n)\n",
    "print (angkaGanjil)"
   ]
  },
  {
   "cell_type": "markdown",
   "metadata": {},
   "source": [
    "# 3. Tampilkan berapa banyak yang mendapatkan nilai lebih dari 70"
   ]
  },
  {
   "cell_type": "code",
   "execution_count": 7,
   "metadata": {},
   "outputs": [
    {
     "name": "stdout",
     "output_type": "stream",
     "text": [
      "[95, 72, 94, 93, 96, 81, 74, 77, 79, 84, 92, 88, 85, 96, 89, 87, 89, 78, 97, 76, 76, 99, 99, 81, 81, 99, 94, 88, 76, 71, 75, 71, 75, 87, 87, 80, 90, 90, 99, 89, 91, 83, 88, 99, 91, 97, 92, 84, 88, 77, 89, 97, 74, 96, 85, 81, 71, 85, 76, 75, 85, 76, 88, 95, 97, 90, 89, 74, 88, 99, 89, 80, 77, 79, 80, 98, 74, 94]\n"
     ]
    }
   ],
   "source": [
    "nilaiLebih70 = []\n",
    "for n in nilaiTugas:\n",
    "    if n>70:\n",
    "        nilaiLebih70.append(n)\n",
    "print(nilaiLebih70)"
   ]
  },
  {
   "cell_type": "markdown",
   "metadata": {},
   "source": [
    "# 4. Tampilkan standar deviasi dari sekumpulan nilai tersebut"
   ]
  },
  {
   "cell_type": "code",
   "execution_count": 12,
   "metadata": {},
   "outputs": [
    {
     "name": "stdout",
     "output_type": "stream",
     "text": [
      "standart deviasi adalah: 29.19990895073003\n"
     ]
    }
   ],
   "source": [
    "total = 0\n",
    "total2= 0\n",
    "for i in nilaiTugas:\n",
    "    total=total+ i\n",
    "    total2 = total2 + i**2\n",
    "    \n",
    "n = len(nilaiTugas)\n",
    "ss= (n*total2-total**2)/(n*(n-1))  \n",
    "import math\n",
    "sss=math.sqrt(ss)\n",
    "\n",
    "print (\"standart deviasi adalah:\",sss)"
   ]
  },
  {
   "cell_type": "markdown",
   "metadata": {},
   "source": [
    "# 5. Tampilkan nilai maksimum dan minimum"
   ]
  },
  {
   "cell_type": "code",
   "execution_count": 15,
   "metadata": {},
   "outputs": [
    {
     "name": "stdout",
     "output_type": "stream",
     "text": [
      "Nilai Maksimum= 99\n",
      "Nilai Minimum= 1\n"
     ]
    }
   ],
   "source": [
    "nilaiMaks = nilaiTugas [0]\n",
    "nilaiMin = nilaiTugas [0]\n",
    "for n in nilaiTugas:\n",
    "    if(n>nilaiMaks):\n",
    "        nilaiMaks = n\n",
    "print(\"Nilai Maksimum=\",nilaiMaks)\n",
    "for n in nilaiTugas:\n",
    "    if(n<nilaiMin):\n",
    "        nilaiMin = n\n",
    "print(\"Nilai Minimum=\",nilaiMin)"
   ]
  },
  {
   "cell_type": "markdown",
   "metadata": {},
   "source": [
    "# 6. Menampilkan Nilai Modus"
   ]
  },
  {
   "cell_type": "code",
   "execution_count": 16,
   "metadata": {},
   "outputs": [
    {
     "name": "stdout",
     "output_type": "stream",
     "text": [
      "30\n"
     ]
    }
   ],
   "source": [
    "nilai_modus=nilaiTugas[0]\n",
    "jumlah=nilaiTugas.count(nilai_modus)\n",
    "for b in nilaiTugas:\n",
    "    jumlah_b=nilaiTugas.count(n)\n",
    "    if jumlah_b>jumlah:\n",
    "        nilai_modus=b\n",
    "        jumlah=jumlah_b\n",
    "print(nilai_modus)"
   ]
  },
  {
   "cell_type": "code",
   "execution_count": null,
   "metadata": {},
   "outputs": [],
   "source": []
  }
 ],
 "metadata": {
  "kernelspec": {
   "display_name": "Python 3",
   "language": "python",
   "name": "python3"
  },
  "language_info": {
   "codemirror_mode": {
    "name": "ipython",
    "version": 3
   },
   "file_extension": ".py",
   "mimetype": "text/x-python",
   "name": "python",
   "nbconvert_exporter": "python",
   "pygments_lexer": "ipython3",
   "version": "3.7.0"
  }
 },
 "nbformat": 4,
 "nbformat_minor": 2
}
