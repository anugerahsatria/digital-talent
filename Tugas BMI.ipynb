{
 "cells": [
  {
   "cell_type": "code",
   "execution_count": 1,
   "metadata": {},
   "outputs": [
    {
     "name": "stdout",
     "output_type": "stream",
     "text": [
      "Masukkan tinggi anda dalam cm:  185\n",
      "Masukkan berat badan anda dalam Kg: 85\n",
      "Anda termasuk dalam kategori Normal (healthy weight) \n"
     ]
    }
   ],
   "source": [
    "tinggi = float(input('Masukkan tinggi anda dalam cm:  '))\n",
    "berat = int (input('Masukkan berat badan anda dalam Kg: '))\n",
    "tinggiAkhir = tinggi/100\n",
    "height = tinggiAkhir * tinggiAkhir\n",
    "\n",
    "BMI = berat/height\n",
    "\n",
    "if BMI<15:\n",
    "    print(\"Anda termasuk dalam kategori Very severely underweight \")\n",
    "    \n",
    "elif BMI>=15 and  BMI<=16:\n",
    "    print (\"Anda termasuk dalam kategori Severely underweight \")\n",
    "    \n",
    "elif BMI>=16 and BMI<=18.5:\n",
    "    print(\"Anda termasuk dalam kategori Underweight \")\n",
    "\n",
    "elif  BMI>=18.5 and BMI<=25:\n",
    "    print(\"Anda termasuk dalam kategori Normal (healthy weight) \")\n",
    "    \n",
    "elif BMI>=25 and BMI<=30:\n",
    "    print(\"Anda termasuk dalam kategori Overweight\")\n",
    "    \n",
    "elif BMI>=30 and BMI<=35:\n",
    "    print(\"Anda termasuk dalam kategori Moderately obese\")\n",
    "    \n",
    "elif BMI>=35 and BMI<=40:\n",
    "    print(\"Anda termasuk dalam kategori Severely obese\")\n",
    "    \n",
    "else:\n",
    "    print(\"Anda termasuk dalam kategori Very Severely obese\")\n",
    "    \n",
    "    \n",
    "\n",
    "\n",
    "\n",
    "\n",
    "\n"
   ]
  },
  {
   "cell_type": "code",
   "execution_count": null,
   "metadata": {},
   "outputs": [],
   "source": []
  },
  {
   "cell_type": "code",
   "execution_count": null,
   "metadata": {},
   "outputs": [],
   "source": []
  }
 ],
 "metadata": {
  "kernelspec": {
   "display_name": "Python 3",
   "language": "python",
   "name": "python3"
  },
  "language_info": {
   "codemirror_mode": {
    "name": "ipython",
    "version": 3
   },
   "file_extension": ".py",
   "mimetype": "text/x-python",
   "name": "python",
   "nbconvert_exporter": "python",
   "pygments_lexer": "ipython3",
   "version": "3.7.0"
  }
 },
 "nbformat": 4,
 "nbformat_minor": 2
}
